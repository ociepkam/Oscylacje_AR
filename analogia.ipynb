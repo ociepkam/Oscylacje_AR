{
 "cells": [
  {
   "cell_type": "code",
   "execution_count": 1,
   "metadata": {
    "collapsed": false
   },
   "outputs": [],
   "source": [
    "from ipywidgets import *\n",
    "from IPython.display import display\n",
    "import yaml\n",
    "import time"
   ]
  },
  {
   "cell_type": "code",
   "execution_count": 26,
   "metadata": {
    "collapsed": false,
    "scrolled": true
   },
   "outputs": [
    {
     "name": "stdout",
     "output_type": "stream",
     "text": [
      "generuje\n",
      "generuje\n",
      "generuje\n"
     ]
    }
   ],
   "source": [
    "id = widgets.Text(\n",
    "    value=\"id\",\n",
    "    description='ID:'\n",
    ")\n",
    "sex = widgets.Dropdown(\n",
    "    options = ['K', 'M'],\n",
    "    description='Sex:'\n",
    ")\n",
    "age = widgets.BoundedIntText(\n",
    "    value = 1,\n",
    "    min = 1,\n",
    "    description='Age:'\n",
    ")\n",
    "number_of_blocks = widgets.BoundedIntText(\n",
    "    value = 0,\n",
    "    min = 0,\n",
    "    description='Number of blocks:'\n",
    ")\n",
    "file_name = widgets.Text(\n",
    "    value = id.value + sex.value + str(age.value),\n",
    "    description= \"File name:\",\n",
    "    disabled=True\n",
    ")\n",
    "save = widgets.ToggleButton(\n",
    "    description='Save',\n",
    "    value=False\n",
    ")\n",
    "akcept = widgets.ToggleButton(\n",
    "    description='Akcept main parameters',\n",
    "    value = True\n",
    ")\n",
    "data_akcepted = False\n",
    "\n",
    "def generate_blocks():\n",
    "    print \"generuje\"\n",
    "\n",
    "def handle_file_name(sender):\n",
    "    global file_name, id, sex, age, akcept, data_akcepted\n",
    "    if data_akcepted == False:\n",
    "        data_akcepted = True\n",
    "        id.disabled = True\n",
    "        sex.disabled = True\n",
    "        age.disabled = True\n",
    "        number_of_blocks.disabled = True\n",
    "        akcept.disabled = True\n",
    "        file_name.value = id.value + sex.value + str(age.value) \n",
    "        akcept.description=''\n",
    "        generate_blocks()\n",
    "        display(save)\n",
    "        \n",
    "\n",
    "\n",
    "def handle_save_to_file(sender):\n",
    "    with open(file_name.value + \".yaml\", 'w') as yamlfile:\n",
    "        yamlfile.write(str(number_of_blocks.value))\n",
    "\n",
    "def handle_creating_blocks(sender):\n",
    "    for idx in range(number_of_blocks.value):\n",
    "        print idx\n",
    "    time.sleep(1)\n",
    "\n",
    "display(id)\n",
    "display(sex)\n",
    "display(age)\n",
    "display(file_name)\n",
    "display(number_of_blocks)\n",
    "display(akcept)\n",
    "\n",
    "\n",
    "akcept.observe(handle_file_name)\n",
    "save.observe(handle_save_to_file)\n"
   ]
  },
  {
   "cell_type": "code",
   "execution_count": null,
   "metadata": {
    "collapsed": true
   },
   "outputs": [],
   "source": []
  }
 ],
 "metadata": {
  "kernelspec": {
   "display_name": "Python 2",
   "language": "python",
   "name": "python2"
  },
  "language_info": {
   "codemirror_mode": {
    "name": "ipython",
    "version": 2
   },
   "file_extension": ".py",
   "mimetype": "text/x-python",
   "name": "python",
   "nbconvert_exporter": "python",
   "pygments_lexer": "ipython2",
   "version": "2.7.11"
  }
 },
 "nbformat": 4,
 "nbformat_minor": 0
}
